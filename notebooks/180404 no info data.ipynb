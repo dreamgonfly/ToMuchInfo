{
 "cells": [
  {
   "cell_type": "code",
   "execution_count": 2,
   "metadata": {},
   "outputs": [],
   "source": [
    "f = open('../code/data/movie_review_phase1/train/train_data')"
   ]
  },
  {
   "cell_type": "code",
   "execution_count": 3,
   "metadata": {},
   "outputs": [],
   "source": [
    "lines = f.readlines()"
   ]
  },
  {
   "cell_type": "code",
   "execution_count": 6,
   "metadata": {},
   "outputs": [],
   "source": [
    "sorted_lines = sorted(lines, key=lambda x: len(x))"
   ]
  },
  {
   "cell_type": "markdown",
   "metadata": {},
   "source": [
    "데이터 중 약 40개는 빈 줄"
   ]
  },
  {
   "cell_type": "code",
   "execution_count": 12,
   "metadata": {
    "scrolled": false
   },
   "outputs": [
    {
     "data": {
      "text/plain": [
       "['\\n',\n",
       " '\\n',\n",
       " '\\n',\n",
       " '\\n',\n",
       " '\\n',\n",
       " '\\n',\n",
       " '\\n',\n",
       " '\\n',\n",
       " '\\n',\n",
       " '\\n',\n",
       " '\\n',\n",
       " '\\n',\n",
       " '\\n',\n",
       " '\\n',\n",
       " '\\n',\n",
       " '\\n',\n",
       " '\\n',\n",
       " '\\n',\n",
       " '\\n',\n",
       " '\\n',\n",
       " '\\n',\n",
       " '\\n',\n",
       " '\\n',\n",
       " '\\n',\n",
       " '\\n',\n",
       " '\\n',\n",
       " '\\n',\n",
       " '\\n',\n",
       " '\\n',\n",
       " '\\n',\n",
       " '\\n',\n",
       " '\\n',\n",
       " '\\n',\n",
       " '\\n',\n",
       " '\\n',\n",
       " '\\n',\n",
       " '\\n',\n",
       " '\\n',\n",
       " '\\n',\n",
       " '\\n',\n",
       " '.\\n',\n",
       " '짱\\n',\n",
       " '네\\n',\n",
       " '봐\\n',\n",
       " '굿\\n']"
      ]
     },
     "execution_count": 12,
     "metadata": {},
     "output_type": "execute_result"
    }
   ],
   "source": [
    "sorted_lines[:45]"
   ]
  },
  {
   "cell_type": "markdown",
   "metadata": {},
   "source": [
    "한글자 짜리는 3000개"
   ]
  },
  {
   "cell_type": "code",
   "execution_count": 15,
   "metadata": {
    "scrolled": true
   },
   "outputs": [
    {
     "data": {
      "text/plain": [
       "3441"
      ]
     },
     "execution_count": 15,
     "metadata": {},
     "output_type": "execute_result"
    }
   ],
   "source": [
    "len([line for line in sorted_lines if len(line) == 2])"
   ]
  },
  {
   "cell_type": "code",
   "execution_count": 17,
   "metadata": {},
   "outputs": [],
   "source": [
    "from collections import Counter"
   ]
  },
  {
   "cell_type": "code",
   "execution_count": 25,
   "metadata": {
    "scrolled": true
   },
   "outputs": [],
   "source": [
    "c = Counter([line for line in sorted_lines if len(line) <= 2])"
   ]
  },
  {
   "cell_type": "markdown",
   "metadata": {},
   "source": [
    "'굿'이 약 1500개"
   ]
  },
  {
   "cell_type": "code",
   "execution_count": 26,
   "metadata": {
    "scrolled": false
   },
   "outputs": [
    {
     "data": {
      "text/plain": [
       "[('굿\\n', 1572),\n",
       " ('짱\\n', 395),\n",
       " ('굳\\n', 391),\n",
       " ('.\\n', 223),\n",
       " ('ㅋ\\n', 64),\n",
       " ('ㅇ\\n', 56),\n",
       " ('\\n', 40),\n",
       " ('ㅎ\\n', 36),\n",
       " ('1\\n', 26),\n",
       " ('?\\n', 25),\n",
       " ('d\\n', 24),\n",
       " ('즐\\n', 23),\n",
       " ('!\\n', 21),\n",
       " ('긋\\n', 21),\n",
       " ('乃\\n', 21),\n",
       " ('헐\\n', 19),\n",
       " ('음\\n', 19),\n",
       " ('z\\n', 18),\n",
       " ('흠\\n', 15),\n",
       " ('아\\n', 13),\n",
       " ('쩝\\n', 13),\n",
       " ('와\\n', 13),\n",
       " ('쩜\\n', 13),\n",
       " ('잼\\n', 12),\n",
       " ('♥\\n', 11),\n",
       " ('ㄴ\\n', 10),\n",
       " ('-\\n', 9),\n",
       " ('오\\n', 8),\n",
       " ('~\\n', 8),\n",
       " ('b\\n', 8),\n",
       " ('걍\\n', 7),\n",
       " ('ㅠ\\n', 7),\n",
       " ('ㅗ\\n', 7),\n",
       " ('훗\\n', 6),\n",
       " ('9\\n', 6),\n",
       " ('휴\\n', 6),\n",
       " ('ㅅ\\n', 6),\n",
       " (';\\n', 5),\n",
       " ('a\\n', 5),\n",
       " ('7\\n', 5),\n",
       " ('8\\n', 5),\n",
       " ('ㅁ\\n', 5),\n",
       " ('캬\\n', 5),\n",
       " ('네\\n', 4),\n",
       " ('봐\\n', 4),\n",
       " ('s\\n', 4),\n",
       " ('하\\n', 4),\n",
       " ('후\\n', 4),\n",
       " ('f\\n', 4),\n",
       " ('으\\n', 4),\n",
       " ('흥\\n', 4),\n",
       " ('♡\\n', 4),\n",
       " ('헉\\n', 4),\n",
       " ('구\\n', 4),\n",
       " ('6\\n', 4),\n",
       " ('ㄹ\\n', 4),\n",
       " ('쨩\\n', 4),\n",
       " ('쩔\\n', 4),\n",
       " ('ㅣ\\n', 4),\n",
       " ('꼭\\n', 4),\n",
       " ('ㅈ\\n', 3),\n",
       " ('갑\\n', 3),\n",
       " ('찜\\n', 3),\n",
       " ('0\\n', 3),\n",
       " ('ㄷ\\n', 3),\n",
       " ('甲\\n', 3),\n",
       " ('올\\n', 3),\n",
       " ('뭐\\n', 3),\n",
       " ('꺄\\n', 3),\n",
       " ('3\\n', 3),\n",
       " ('쯧\\n', 3),\n",
       " ('ㄱ\\n', 3),\n",
       " ('g\\n', 3),\n",
       " ('j\\n', 3),\n",
       " ('e\\n', 3),\n",
       " ('응\\n', 3),\n",
       " ('좀\\n', 3),\n",
       " ('똥\\n', 3),\n",
       " ('진\\n', 3),\n",
       " ('귿\\n', 3),\n",
       " ('샷\\n', 3),\n",
       " ('V\\n', 3),\n",
       " ('망\\n', 3),\n",
       " ('켁\\n', 2),\n",
       " ('힝\\n', 2),\n",
       " ('왜\\n', 2),\n",
       " ('ㅂ\\n', 2),\n",
       " ('·\\n', 2),\n",
       " ('l\\n', 2),\n",
       " ('y\\n', 2),\n",
       " ('ㅜ\\n', 2),\n",
       " ('귣\\n', 2),\n",
       " ('r\\n', 2),\n",
       " ('凸\\n', 2),\n",
       " ('/\\n', 2),\n",
       " ('쳇\\n', 2),\n",
       " ('짜\\n', 2),\n",
       " ('5\\n', 2),\n",
       " ('딱\\n', 2),\n",
       " ('돈\\n', 2),\n",
       " ('ㅡ\\n', 2),\n",
       " ('ㅓ\\n', 2),\n",
       " ('킥\\n', 2),\n",
       " ('ㅄ\\n', 2),\n",
       " ('꺅\\n', 2),\n",
       " ('우\\n', 2),\n",
       " ('義\\n', 2),\n",
       " ('쩐\\n', 1),\n",
       " ('전\\n', 1),\n",
       " ('퉤\\n', 1),\n",
       " ('쉿\\n', 1),\n",
       " ('쇼\\n', 1),\n",
       " ('별\\n', 1),\n",
       " ('궂\\n', 1),\n",
       " ('ㅉ\\n', 1),\n",
       " ('로\\n', 1),\n",
       " ('읗\\n', 1),\n",
       " ('쿨\\n', 1),\n",
       " ('홀\\n', 1),\n",
       " ('惡\\n', 1),\n",
       " ('넘\\n', 1),\n",
       " ('대\\n', 1),\n",
       " ('劍\\n', 1),\n",
       " ('보\\n', 1),\n",
       " ('h\\n', 1),\n",
       " ('⊙\\n', 1),\n",
       " ('w\\n', 1),\n",
       " ('이\\n', 1),\n",
       " ('m\\n', 1),\n",
       " ('n\\n', 1),\n",
       " ('☆\\n', 1),\n",
       " ('배\\n', 1),\n",
       " ('백\\n', 1),\n",
       " ('쫌\\n', 1),\n",
       " ('텐\\n', 1),\n",
       " ('헠\\n', 1),\n",
       " ('풋\\n', 1),\n",
       " ('국\\n', 1),\n",
       " ('A\\n', 1),\n",
       " ('ㅕ\\n', 1),\n",
       " ('킄\\n', 1),\n",
       " ('c\\n', 1),\n",
       " ('F\\n', 1),\n",
       " ('례\\n', 1),\n",
       " ('좡\\n', 1),\n",
       " ('자\\n', 1),\n",
       " ('v\\n', 1),\n",
       " ('궅\\n', 1),\n",
       " ('썅\\n', 1),\n",
       " ('q\\n', 1),\n",
       " ('싫\\n', 1),\n",
       " ('롬\\n', 1),\n",
       " ('웩\\n', 1),\n",
       " ('고\\n', 1),\n",
       " ('無\\n', 1),\n",
       " ('훔\\n', 1),\n",
       " ('욱\\n', 1),\n",
       " ('꽝\\n', 1),\n",
       " ('얍\\n', 1),\n",
       " ('꽤\\n', 1),\n",
       " ('ㄳ\\n', 1),\n",
       " ('븨\\n', 1),\n",
       " ('뎁\\n', 1),\n",
       " ('왕\\n', 1),\n",
       " ('쩖\\n', 1),\n",
       " ('엄\\n', 1),\n",
       " ('쩡\\n', 1),\n",
       " ('冷\\n', 1),\n",
       " ('너\\n', 1),\n",
       " ('비\\n', 1),\n",
       " ('…\\n', 1),\n",
       " ('쏴\\n', 1),\n",
       " ('♪\\n', 1),\n",
       " ('큼\\n', 1),\n",
       " ('귯\\n', 1),\n",
       " ('머\\n', 1),\n",
       " ('윽\\n', 1),\n",
       " ('땋\\n', 1),\n",
       " ('．\\n', 1),\n",
       " ('과\\n', 1),\n",
       " ('ㅢ\\n', 1),\n",
       " ('햐\\n', 1),\n",
       " ('멋\\n', 1),\n",
       " ('흡\\n', 1),\n",
       " ('멍\\n', 1),\n",
       " ('왝\\n', 1),\n",
       " ('장\\n', 1),\n",
       " ('풉\\n', 1),\n",
       " ('스\\n', 1),\n",
       " ('찡\\n', 1),\n",
       " ('ㄲ\\n', 1),\n",
       " ('잉\\n', 1),\n",
       " ('뱌\\n', 1),\n",
       " ('탑\\n', 1),\n",
       " ('잏\\n', 1),\n",
       " ('ㅏ\\n', 1),\n",
       " ('핫\\n', 1),\n",
       " ('릐\\n', 1),\n",
       " ('체\\n', 1),\n",
       " ('노\\n', 1),\n",
       " ('팬\\n', 1)]"
      ]
     },
     "execution_count": 26,
     "metadata": {},
     "output_type": "execute_result"
    }
   ],
   "source": [
    "c.most_common(1000)"
   ]
  },
  {
   "cell_type": "code",
   "execution_count": null,
   "metadata": {},
   "outputs": [],
   "source": []
  }
 ],
 "metadata": {
  "kernelspec": {
   "display_name": "Python 3",
   "language": "python",
   "name": "python3"
  },
  "language_info": {
   "codemirror_mode": {
    "name": "ipython",
    "version": 3
   },
   "file_extension": ".py",
   "mimetype": "text/x-python",
   "name": "python",
   "nbconvert_exporter": "python",
   "pygments_lexer": "ipython3",
   "version": "3.6.4"
  }
 },
 "nbformat": 4,
 "nbformat_minor": 2
}
