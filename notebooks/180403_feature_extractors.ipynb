{
 "cells": [
  {
   "cell_type": "markdown",
   "metadata": {},
   "source": [
    "# 180403_feature_extractors\n",
    "author : angrypark"
   ]
  },
  {
   "cell_type": "markdown",
   "metadata": {},
   "source": [
    "## 구현해볼 것들\n",
    "- BasicFeauturesExtractor : sentence length,\n",
    "- SentimentExtractor\n",
    "- BadWordsExtractor : negative words, bad words, reverse words + specific words('ㅋ','ㅜ')\n",
    "- MovieActorExtractor : statistics about actor and movie\n",
    "- TfidfVectorizer\n",
    "- SimpleRNNVectorizer\n",
    "- CountVectorizer"
   ]
  },
  {
   "cell_type": "markdown",
   "metadata": {},
   "source": [
    "## 추가로 찾아볼 embedding\n",
    "- 지식인 유사도 예측 - SNLI corpus\n",
    "- Enhanced lstm\n",
    "- context에 따라 word embeddin이 바뀌는 모델 - cove, ELMO"
   ]
  },
  {
   "cell_type": "code",
   "execution_count": 1,
   "metadata": {},
   "outputs": [],
   "source": [
    "import os\n",
    "import pickle\n",
    "import sys\n",
    "import warnings\n",
    "\n",
    "import tensorflow as tf\n",
    "import pandas as pd\n",
    "\n",
    "class DummyFeatureExtractor:\n",
    "    \"\"\"\n",
    "    Base dummy feature extractor\n",
    "    \"\"\"\n",
    "    def extract_feature(self, raw_text, tokenized_text):\n",
    "        \"\"\"\n",
    "        :params raw_text: raw text\n",
    "        :params tokenized_text: tokenized text, it should be space seperated or list\n",
    "        \"\"\"\n",
    "        return \"tuple\""
   ]
  },
  {
   "cell_type": "code",
   "execution_count": 3,
   "metadata": {},
   "outputs": [],
   "source": [
    "with open(\"../data/movie.txt\") as f:\n",
    "    data = f.readlines()\n",
    "    data = [str(t.strip()) for t in data]\n",
    "    data = pd.DataFrame(data, columns=['comment'])\n",
    "    \n",
    "with open(\"../data/movie_label.txt\") as f:\n",
    "    score = f.readlines()\n",
    "    data['score'] = pd.DataFrame(score)\n",
    "    data['score'] = data['score'].map(lambda x: int(x.strip()))"
   ]
  },
  {
   "cell_type": "markdown",
   "metadata": {},
   "source": [
    "## 기본적 EDA"
   ]
  },
  {
   "cell_type": "markdown",
   "metadata": {},
   "source": [
    "score 분포"
   ]
  },
  {
   "cell_type": "code",
   "execution_count": 4,
   "metadata": {},
   "outputs": [
    {
     "name": "stdout",
     "output_type": "stream",
     "text": [
      "<class 'pandas.core.frame.DataFrame'>\n",
      "RangeIndex: 520343 entries, 0 to 520342\n",
      "Data columns (total 2 columns):\n",
      "comment    520343 non-null object\n",
      "score      520343 non-null int64\n",
      "dtypes: int64(1), object(1)\n",
      "memory usage: 7.9+ MB\n"
     ]
    }
   ],
   "source": [
    "data.info()"
   ]
  },
  {
   "cell_type": "code",
   "execution_count": 5,
   "metadata": {},
   "outputs": [
    {
     "data": {
      "text/plain": [
       "array([ 8,  9,  7, 10,  4,  5,  6,  2,  1,  3])"
      ]
     },
     "execution_count": 5,
     "metadata": {},
     "output_type": "execute_result"
    }
   ],
   "source": [
    "data['score'].unique()"
   ]
  },
  {
   "cell_type": "code",
   "execution_count": 6,
   "metadata": {},
   "outputs": [
    {
     "name": "stderr",
     "output_type": "stream",
     "text": [
      "/usr/local/lib/python3.6/site-packages/matplotlib/axes/_axes.py:6462: UserWarning: The 'normed' kwarg is deprecated, and has been replaced by the 'density' kwarg.\n",
      "  warnings.warn(\"The 'normed' kwarg is deprecated, and has been \"\n"
     ]
    },
    {
     "data": {
      "text/plain": [
       "<matplotlib.axes._subplots.AxesSubplot at 0x128c8acc0>"
      ]
     },
     "execution_count": 6,
     "metadata": {},
     "output_type": "execute_result"
    },
    {
     "data": {
      "image/png": "[encoded data removed]",
      "text/plain": [
       "<Figure size 432x288 with 1 Axes>"
      ]
     },
     "metadata": {},
     "output_type": "display_data"
    }
   ],
   "source": [
    "import seaborn as sns\n",
    "%matplotlib inline\n",
    "sns.distplot(data['score'])"
   ]
  },
  {
   "cell_type": "markdown",
   "metadata": {},
   "source": [
    "영화, 배우 숫자"
   ]
  },
  {
   "cell_type": "code",
   "execution_count": 7,
   "metadata": {},
   "outputs": [],
   "source": [
    "import re"
   ]
  },
  {
   "cell_type": "code",
   "execution_count": 8,
   "metadata": {},
   "outputs": [],
   "source": [
    "re_movie = re.compile(\"mv[0-9]*\")\n",
    "re_actor = re.compile(\"ac[0-9]*\")"
   ]
  },
  {
   "cell_type": "code",
   "execution_count": 10,
   "metadata": {},
   "outputs": [],
   "source": [
    "data['movie'] = data['comment'].map(lambda x: re_movie.findall(x))\n",
    "data['actor'] = data['comment'].map(lambda x: re_actor.findall(x))"
   ]
  },
  {
   "cell_type": "code",
   "execution_count": 21,
   "metadata": {},
   "outputs": [],
   "source": [
    "movie_ids = list()\n",
    "actor_ids = list()\n",
    "for item in data['movie'].values:\n",
    "    movie_ids += item\n",
    "for item in data['actor'].values:\n",
    "    actor_ids += item"
   ]
  },
  {
   "cell_type": "code",
   "execution_count": 23,
   "metadata": {},
   "outputs": [],
   "source": [
    "import pickle\n",
    "pickle.dump(movie_ids, \"\")"
   ]
  }
 ],
 "metadata": {
  "kernelspec": {
   "display_name": "Python 3",
   "language": "python",
   "name": "python3"
  },
  "language_info": {
   "codemirror_mode": {
    "name": "ipython",
    "version": 3
   },
   "file_extension": ".py",
   "mimetype": "text/x-python",
   "name": "python",
   "nbconvert_exporter": "python",
   "pygments_lexer": "ipython3",
   "version": "3.6.4"
  }
 },
 "nbformat": 4,
 "nbformat_minor": 2
}
