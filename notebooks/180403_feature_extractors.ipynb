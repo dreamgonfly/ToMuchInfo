{
 "cells": [
  {
   "cell_type": "markdown",
   "metadata": {},
   "source": [
    "# 180403_feature_extractors\n",
    "author : angrypark"
   ]
  },
  {
   "cell_type": "markdown",
   "metadata": {},
   "source": [
    "## 구현해볼 것들\n",
    "- BasicFeauturesExtractor : sentence length,\n",
    "- SentimentExtractor\n",
    "- BadWordsExtractor : negative words, bad words, reverse words + specific words('ㅋ','ㅜ')\n",
    "- MovieActorExtractor : statistics about actor and movie\n",
    "- TfidfVectorizer\n",
    "- SimpleRNNVectorizer\n",
    "- CountVectorizer"
   ]
  },
  {
   "cell_type": "markdown",
   "metadata": {},
   "source": [
    "## 추가로 찾아볼 embedding\n",
    "- 지식인 유사도 예측 - SNLI corpus\n",
    "- Enhanced lstm\n",
    "- context에 따라 word embeddin이 바뀌는 모델 - cove, ELMO"
   ]
  },
  {
   "cell_type": "code",
   "execution_count": 1,
   "metadata": {},
   "outputs": [],
   "source": [
    "import os\n",
    "import pickle\n",
    "import sys\n",
    "import warnings\n",
    "\n",
    "import tensorflow as tf\n",
    "import pandas as pd\n",
    "\n",
    "class DummyFeatureExtractor:\n",
    "    \"\"\"\n",
    "    Base dummy feature extractor\n",
    "    \"\"\"\n",
    "    def extract_feature(self, raw_text, tokenized_text):\n",
    "        \"\"\"\n",
    "        :params raw_text: raw text\n",
    "        :params tokenized_text: tokenized text, it should be space seperated or list\n",
    "        \"\"\"\n",
    "        return \"tuple\""
   ]
  },
  {
   "cell_type": "code",
   "execution_count": 2,
   "metadata": {},
   "outputs": [],
   "source": [
    "with open(\"../data/movie.txt\") as f:\n",
    "    data = f.readlines()\n",
    "    data = [str(t.strip()) for t in data]\n",
    "    data = pd.DataFrame(data, columns=['comment'])\n",
    "    \n",
    "with open(\"../data/movie_label.txt\") as f:\n",
    "    score = f.readlines()\n",
    "    data['score'] = pd.DataFrame(score)\n",
    "    data['score'] = data['score'].map(lambda x: int(x.strip()))"
   ]
  },
  {
   "cell_type": "markdown",
   "metadata": {},
   "source": [
    "## 기본적 EDA"
   ]
  },
  {
   "cell_type": "markdown",
   "metadata": {},
   "source": [
    "score 분포"
   ]
  },
  {
   "cell_type": "code",
   "execution_count": 3,
   "metadata": {},
   "outputs": [
    {
     "name": "stdout",
     "output_type": "stream",
     "text": [
      "<class 'pandas.core.frame.DataFrame'>\n",
      "RangeIndex: 520343 entries, 0 to 520342\n",
      "Data columns (total 2 columns):\n",
      "comment    520343 non-null object\n",
      "score      520343 non-null int64\n",
      "dtypes: int64(1), object(1)\n",
      "memory usage: 7.9+ MB\n"
     ]
    }
   ],
   "source": [
    "data.info()"
   ]
  },
  {
   "cell_type": "code",
   "execution_count": 4,
   "metadata": {},
   "outputs": [
    {
     "data": {
      "text/plain": [
       "array([ 8,  9,  7, 10,  4,  5,  6,  2,  1,  3])"
      ]
     },
     "execution_count": 4,
     "metadata": {},
     "output_type": "execute_result"
    }
   ],
   "source": [
    "data['score'].unique()"
   ]
  },
  {
   "cell_type": "code",
   "execution_count": 5,
   "metadata": {},
   "outputs": [
    {
     "name": "stderr",
     "output_type": "stream",
     "text": [
      "/usr/local/lib/python3.6/site-packages/matplotlib/axes/_axes.py:6462: UserWarning: The 'normed' kwarg is deprecated, and has been replaced by the 'density' kwarg.\n",
      "  warnings.warn(\"The 'normed' kwarg is deprecated, and has been \"\n"
     ]
    },
    {
     "data": {
      "text/plain": [
       "<matplotlib.axes._subplots.AxesSubplot at 0x122cc0898>"
      ]
     },
     "execution_count": 5,
     "metadata": {},
     "output_type": "execute_result"
    },
    {
     "data": {
      "image/png": "[encoded data removed]",
      "text/plain": [
       "<Figure size 432x288 with 1 Axes>"
      ]
     },
     "metadata": {},
     "output_type": "display_data"
    }
   ],
   "source": [
    "import seaborn as sns\n",
    "%matplotlib inline\n",
    "sns.distplot(data['score'])"
   ]
  },
  {
   "cell_type": "markdown",
   "metadata": {},
   "source": [
    "영화, 배우 숫자"
   ]
  },
  {
   "cell_type": "code",
   "execution_count": 6,
   "metadata": {},
   "outputs": [],
   "source": [
    "import re"
   ]
  },
  {
   "cell_type": "code",
   "execution_count": 7,
   "metadata": {},
   "outputs": [],
   "source": [
    "re_movie = re.compile(\"mv[0-9]*\")\n",
    "re_actor = re.compile(\"ac[0-9]*\")"
   ]
  },
  {
   "cell_type": "code",
   "execution_count": 8,
   "metadata": {},
   "outputs": [],
   "source": [
    "data['movie'] = data['comment'].map(lambda x: re_movie.findall(x))\n",
    "data['actor'] = data['comment'].map(lambda x: re_actor.findall(x))"
   ]
  },
  {
   "cell_type": "code",
   "execution_count": 9,
   "metadata": {},
   "outputs": [],
   "source": [
    "movie_ids = list()\n",
    "actor_ids = list()\n",
    "for item in data['movie'].values:\n",
    "    movie_ids += item\n",
    "for item in data['actor'].values:\n",
    "    actor_ids += item"
   ]
  },
  {
   "cell_type": "code",
   "execution_count": 10,
   "metadata": {},
   "outputs": [],
   "source": [
    "from collections import Counter"
   ]
  },
  {
   "cell_type": "code",
   "execution_count": 12,
   "metadata": {},
   "outputs": [
    {
     "data": {
      "text/html": [
       "<div>\n",
       "<style scoped>\n",
       "    .dataframe tbody tr th:only-of-type {\n",
       "        vertical-align: middle;\n",
       "    }\n",
       "\n",
       "    .dataframe tbody tr th {\n",
       "        vertical-align: top;\n",
       "    }\n",
       "\n",
       "    .dataframe thead th {\n",
       "        text-align: right;\n",
       "    }\n",
       "</style>\n",
       "<table border=\"1\" class=\"dataframe\">\n",
       "  <thead>\n",
       "    <tr style=\"text-align: right;\">\n",
       "      <th></th>\n",
       "      <th>comment</th>\n",
       "      <th>score</th>\n",
       "      <th>movie</th>\n",
       "      <th>actor</th>\n",
       "    </tr>\n",
       "  </thead>\n",
       "  <tbody>\n",
       "    <tr>\n",
       "      <th>0</th>\n",
       "      <td>아련한 향수를 떠올리게 만드는 추억의 영화</td>\n",
       "      <td>8</td>\n",
       "      <td>[]</td>\n",
       "      <td>[]</td>\n",
       "    </tr>\n",
       "    <tr>\n",
       "      <th>1</th>\n",
       "      <td>SF 코미디 영화사에서 가장 주목해야할 영화</td>\n",
       "      <td>9</td>\n",
       "      <td>[]</td>\n",
       "      <td>[]</td>\n",
       "    </tr>\n",
       "  </tbody>\n",
       "</table>\n",
       "</div>"
      ],
      "text/plain": [
       "                    comment  score movie actor\n",
       "0   아련한 향수를 떠올리게 만드는 추억의 영화      8    []    []\n",
       "1  SF 코미디 영화사에서 가장 주목해야할 영화      9    []    []"
      ]
     },
     "execution_count": 12,
     "metadata": {},
     "output_type": "execute_result"
    }
   ],
   "source": [
    "data.head(2)"
   ]
  },
  {
   "cell_type": "code",
   "execution_count": 13,
   "metadata": {},
   "outputs": [
    {
     "name": "stdout",
     "output_type": "stream",
     "text": [
      "넘 mv000mv002480624.. ㅋㅋㅋㅋ\n",
      "mv000mv002586193 대충봤다\n",
      "mv000mv000941748까잔 재밋다\n",
      "ㅋㅋ mv000mv000941748 짱 재미있던데...\n",
      "mv000mv000941748진짜재밋더라재미없으면보지말던가\n",
      "mv000mv000941748 -100 : cgv -100\n",
      "mv000mv000941748는독특한방법으로웃기고있다정말재밌다\n",
      "정말좋았습니다 !!!! mv000mv000941748♡\n",
      "mv000mv000941748 재밌습니다.\n",
      "mv000mv000941748 제게 재밌네요\n",
      "mv00067885랑 mv000mv000941748랑 다른게 머야?졸 재미없다\n",
      "mv00067885에 두짜에 흠이 생겨서 mv000mv000941748\n",
      "mv000mv000941748 상영관 반경 1km 이내 접근금지.\n",
      "엄청 재밌어요 ! ㅎ mv000mv000941748 !♡\n",
      "><mv000mv000941748재미잇엇어요^.^나중에또보고싶은영화ㅋㅋ\n",
      "역시 mv000mv000941748!!실망시키지않음!\n",
      "\"왕의남자보고 울고, mv000mv000941748보고 웃었다. 약간감동\"\n",
      "mv000mv000941748 잼잇어요\n",
      "mv000mv000941748 완전재밌구요 다시한번보고싶은영화네요ㅎ\n"
     ]
    }
   ],
   "source": [
    "for item in data.values:\n",
    "    if 'mv000' in item[2]:\n",
    "        print(item[0])"
   ]
  },
  {
   "cell_type": "code",
   "execution_count": 18,
   "metadata": {},
   "outputs": [
    {
     "name": "stderr",
     "output_type": "stream",
     "text": [
      "/usr/local/lib/python3.6/site-packages/matplotlib/axes/_axes.py:6462: UserWarning: The 'normed' kwarg is deprecated, and has been replaced by the 'density' kwarg.\n",
      "  warnings.warn(\"The 'normed' kwarg is deprecated, and has been \"\n"
     ]
    },
    {
     "data": {
      "text/plain": [
       "<matplotlib.axes._subplots.AxesSubplot at 0x1279ec198>"
      ]
     },
     "execution_count": 18,
     "metadata": {},
     "output_type": "execute_result"
    },
    {
     "data": {
      "image/png": "[encoded data removed]",
      "text/plain": [
       "<Figure size 432x288 with 1 Axes>"
      ]
     },
     "metadata": {},
     "output_type": "display_data"
    }
   ],
   "source": []
  },
  {
   "cell_type": "code",
   "execution_count": 14,
   "metadata": {},
   "outputs": [],
   "source": [
    "def foo(raw):\n",
    "    return len(raw),"
   ]
  },
  {
   "cell_type": "code",
   "execution_count": 15,
   "metadata": {},
   "outputs": [
    {
     "data": {
      "text/plain": [
       "(2,)"
      ]
     },
     "execution_count": 15,
     "metadata": {},
     "output_type": "execute_result"
    }
   ],
   "source": [
    "foo(\"안녕\")"
   ]
  },
  {
   "cell_type": "code",
   "execution_count": 16,
   "metadata": {},
   "outputs": [],
   "source": [
    "class LengthFeatureExtractor:\n",
    "    \"\"\"A dummy feature extractor that counts the number of tokens\"\"\"\n",
    "    \n",
    "    def __init__(self, config):\n",
    "        pass\n",
    "    \n",
    "    def fit(self, data):\n",
    "        \"\"\"\n",
    "        Args:\n",
    "            data : (raw_text, score)로 이루어진 list\n",
    "        Returns:\n",
    "            raise NotImplementedError if not implemented\n",
    "        \"\"\"\n",
    "        raise NotImplementedError\n",
    "    \n",
    "    def extract_feature(self, raw_text, tokenized_text):\n",
    "        \"\"\"Count the number of tokens\n",
    "        \n",
    "        Args:\n",
    "            raw_text: A string of raw text. For example: \"무궁화 꽃이 피었습니다.\"\n",
    "            tokenized_text: A list of tokens from raw text. For example: ['무궁화', '꽃이', '피었습니다.']\n",
    "            \n",
    "        Returns:\n",
    "            A tuple that represents the counts of tokens.\n",
    "        \"\"\"\n",
    "        \n",
    "        counts = len(tokenized_text)\n",
    "        return counts,  # make it a tuple\n",
    "\n",
    "class BasicFeaturesExtractor:\n",
    "    \"\"\"\n",
    "    Extracts basic features of raw text\n",
    "    \"\"\"\n",
    "    def __init__(self, config):\n",
    "        pass\n",
    "    \n",
    "    def fit(self, data):\n",
    "        \"\"\"\n",
    "        Args:\n",
    "            data : (raw_text, score)로 이루어진 list\n",
    "        Returns:\n",
    "            raise NotImplementedError if not implemented\n",
    "        \"\"\"\n",
    "        raise NotImplementedError\n",
    "    \n",
    "    def extract_feature(self, raw_text, tokenized_text):\n",
    "        \"\"\"\n",
    "        Returns:\n",
    "            [0] raw text의 길이\n",
    "            [1] token의 수\n",
    "        \"\"\"\n",
    "        return len(raw_text), len(tokenized_text),"
   ]
  },
  {
   "cell_type": "code",
   "execution_count": 104,
   "metadata": {},
   "outputs": [
    {
     "data": {
      "text/plain": [
       "0"
      ]
     },
     "execution_count": 104,
     "metadata": {},
     "output_type": "execute_result"
    }
   ],
   "source": [
    "(0)*7"
   ]
  },
  {
   "cell_type": "code",
   "execution_count": 100,
   "metadata": {},
   "outputs": [],
   "source": [
    "class ImportantWordFeaturesExtractor:\n",
    "    \"\"\"\n",
    "    Extracts negative words, bad words, reverse words, specific words('ㅋ','ㅜ') \n",
    "    \"\"\"\n",
    "    def __init__(self):\n",
    "        self.re_badwords = re.compile(\"시[0-9]*발\")\n",
    "    \n",
    "    def fit(self, data):\n",
    "        \"\"\"\n",
    "        Args:\n",
    "            data : (raw_text, score)로 이루어진 list\n",
    "        Returns:\n",
    "            raise NotImplementedError if not implemented\n",
    "        \"\"\"\n",
    "        raise NotImplementedError\n",
    "    \n",
    "    def extract_feature(self, raw_text, tokenized_text):\n",
    "        \"\"\"\n",
    "        Count the number of bad words\n",
    "        Returns:\n",
    "            [0] 욕설 단어의 수\n",
    "            [1] 부정적 단어의 수\n",
    "            [2] 반전적 단어의 수\n",
    "            [3] 'ㅋ' 단어의 수\n",
    "            [4] 'ㅎ' 단어의 수\n",
    "            [5] 'ㅜ' 단어의 수\n",
    "            [6] 'ㅡ' 단어의 수\n",
    "        \"\"\"\n",
    "        tokenized_words = set(tokenized_text)\n",
    "        result = [0]*7\n",
    "        negative_words = {'안', '못', '안봐', '안보', '안봤', '못보', '못잤', '못된', '안들', '안가', '안자', '안해'}\n",
    "        reverse_words = {'지만', '러나', '근데', '허나'}\n",
    "        \n",
    "        result[0] = len(self.re_badwords.findall(raw_text))\n",
    "        result[1] = len(negative_words & tokenized_words)\n",
    "        result[2] = len(reverse_words & tokenized_words)\n",
    "        result[3] = raw_text.count('ㅋ')\n",
    "        result[4] = raw_text.count('ㅎ')\n",
    "        result[5] = raw_text.count('ㅜ')\n",
    "        result[6] = raw_text.count('ㅡ')\n",
    "        \n",
    "        return tuple(result)"
   ]
  },
  {
   "cell_type": "code",
   "execution_count": 80,
   "metadata": {},
   "outputs": [],
   "source": [
    "import re\n",
    "from collections import defaultdict, Counter\n",
    "class MovieActorFeaturesExtractor:\n",
    "    \"\"\"\n",
    "    Extracts statistics of movie and actor if mentioned\n",
    "    \"\"\"\n",
    "    def __init__(self):\n",
    "        re_movie = re.compile(\"mv[0-9]*\")\n",
    "        re_actor = re.compile(\"ac[0-9]*\")\n",
    "        self.movies_dict = None\n",
    "        self.actors_dict = None\n",
    "        self.global_stat = None\n",
    "    \n",
    "    def fit(self, data, threshold=20):\n",
    "        \"\"\"\n",
    "        Extract global features of movies and actors\n",
    "        Args:\n",
    "            data : (raw_text, score)로 이루어진 list\n",
    "            threshold : overfitting을 방지하기 위해 threshold이상 언급된 영화, 배우만 반영\n",
    "        \"\"\"\n",
    "        movies_dict = defaultdict(lambda : list())\n",
    "        actors_dict = defaultdict(lambda : list())\n",
    "        for (comment, score) in data:\n",
    "            for m_id in re_movie.findall(comment):\n",
    "                movies_dict[m_id].append(score)\n",
    "            for a_id in re_actor.findall(comment):\n",
    "                actors_dict[a_id].append(score)\n",
    "        movies_dict = {movie:l for movie,l in movies_dict.items() if len(l)>threshold}\n",
    "        actors_dict = {actor:l for actor,l in actors_dict.items() if len(l)>threshold}\n",
    "        self.movies_dict = movies_dict\n",
    "        self.actors_dict = actors_dict\n",
    "        self.global_stat = (np.mean([x[1] for x in data]), np.std([x[1] for x in data]))\n",
    "                            \n",
    "    def extract_feature(self, raw_text, tokenized_text):\n",
    "        \"\"\"\n",
    "        Returns:\n",
    "            [0] 언급된 영화의 평균 평점. 없을 시 전체 영화의 평균평점, 두 개 이상 시 평균\n",
    "            [1] 언급된 영화 평점의 표준편차. 없을 시 전체 영화 평점의 표준편차, 두 개 이상 시 평균\n",
    "            [2] 언급된 배우의 평균 평점. 없을 시 전체 배우의 평균평점, 두 개 이상 시 평균\n",
    "            [3] 언급된 배우 평점의 표준편차. 없을 시 전체 배우 평점의 표준편차, 두 개 이상 시 평균\n",
    "        \"\"\"\n",
    "        movies_dict = self.movies_dict\n",
    "        actors_dict = self.actors_dict\n",
    "        \n",
    "        movie_scores = []\n",
    "        for m_id in re_movie.findall(raw_text):\n",
    "            if m_id in movies_dict:\n",
    "                movie_scores.append((np.mean(movies_dict[m_id]), np.std(movies_dict[m_id])))\n",
    "        \n",
    "        actor_scores = []\n",
    "        for a_id in re_actor.findall(raw_text):\n",
    "            if a_id in actors_dict:\n",
    "                actor_scores.append((np.mean(actors_dict[a_id]), np.std(actors_dict[a_id])))\n",
    "        result = [self.global_stat[0], self.global_stat[1]]*2\n",
    "        \n",
    "        if len(movie_scores)!=0:\n",
    "            result[0] = np.mean([x[0] for x in movie_scores])\n",
    "            result[1] = np.mean([x[1] for x in movie_scores])\n",
    "        if len(actor_scores)!=0:\n",
    "            result[2] = np.mean([x[0] for x in actor_scores])\n",
    "            result[3] = np.mean([x[1] for x in actor_scores])\n",
    "        \n",
    "        return result"
   ]
  },
  {
   "cell_type": "code",
   "execution_count": null,
   "metadata": {},
   "outputs": [],
   "source": []
  }
 ],
 "metadata": {
  "kernelspec": {
   "display_name": "Python 3",
   "language": "python",
   "name": "python3"
  },
  "language_info": {
   "codemirror_mode": {
    "name": "ipython",
    "version": 3
   },
   "file_extension": ".py",
   "mimetype": "text/x-python",
   "name": "python",
   "nbconvert_exporter": "python",
   "pygments_lexer": "ipython3",
   "version": "3.6.4"
  }
 },
 "nbformat": 4,
 "nbformat_minor": 2
}
