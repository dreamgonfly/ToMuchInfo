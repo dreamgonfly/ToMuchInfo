{
 "cells": [
  {
   "cell_type": "markdown",
   "metadata": {},
   "source": [
    "# 180401_뭘해야할까"
   ]
  },
  {
   "cell_type": "markdown",
   "metadata": {},
   "source": [
    "---\n",
    "예선은 4월 2일부터 4월 15일까지이고 두가지 미션을 중점으로 2라운드 진출자를 선정합니다.\n",
    "- 1. 네이버 지식in 질문 유사도 예측 (Classification)\n",
    "- 2. 네이버 영화 평점 예측 (Regression)\n",
    "\n",
    "제가 생각하는 오늘 해결해야할 점들을 공유하니 자유롭게 피드백 주시면 좋겠습니다.\n",
    "\n",
    "---\n",
    "## 프로젝트 진행 과정\n",
    "### 0. Case Study\n",
    "- Quora winner나 다른 NLP관련 solution 보고 공부\n",
    "- 새로 만드는 것보다는, 유연하게 넣었다 빼었다 할 수 있는 구조를 확립\n",
    "\n",
    "### 1. Data Preprocessing\n",
    "- train/test split, `grid search`나 `hyperparams tuning`은 train k-fold score로, 최종 모델의 성능은 test로 결정\n",
    "- Data cleaning : 특히 2같은 경우에는 평점과 반대가 되는 data들 같이 아예 말이안되는 데이터가 있을듯 직접 보고 삭제하는 과정이 필요\n",
    "- Tokenizer : 이게 영어랑 가장 다른 점인것 같은데, 영어는 stemming으로 되지만 한글은 결합이 너무 복잡하게 되어있어서 tokenizer가 매우 중요하다고 합니다. [참고](https://github.com/lovit/soynlp)\n",
    "\n",
    "### 2. Feature Engineering\n",
    "- Embedding : Word2Vec, Doc2Vec, **FastText**, GloVe\n",
    "- Statistical : 이건 뭐, 끊임없는 EDA\n",
    "- NLP 관련 Features : Topic modeling(PCA, NMF, BTM, LDA), Key Phrase Extraction, Bigram token overlap, Dependency Parsing, TF-IDF\n",
    "\n",
    "### 3. Modeling\n",
    "- CNN\n",
    "- 2D-GRU\n",
    "- XGBoost, CatBoost, LightGBM\n",
    "- Stacking\n",
    "\n",
    "### 4. Postprocessing\n",
    "- Test set의 분포를 살펴보고 이를 바탕으로 모델을 수정하는 것도 중요하다고 하네요. 이부분은 1도 몰라서.. 할지 말지도 애매..\n",
    "\n",
    "---\n",
    "## 오늘 해결해야할 점들\n",
    "- 확실한 개발세팅\n",
    "    - 각자 너무 따로 하면 나중에 합칠 때 힘들 것 같다는 생각이 듭니다.\n",
    "    - 가상환경으로 관리해야 할것 같기도 하고..\n",
    "    - `Scikit-learn`의 `Pipeline`으로 각자의 전처리 합치고, 데이터는 DataFrame이나 Numpy로 이루어진 dictionary로 통일하는게 나을 것 같다는 생각..(이건 고수이신 형들의 생각을 따르겟음)\n",
    "- 프로젝트 관리\n",
    "    - 2주간이니, 빡세게 공유하고 진행해야 할 것 같아요.\n",
    "    - 토일은 무조건 보고, 평일에도 매일 해서 공유해야하지 않을까..\n",
    "    - 근데 현실적으로 힘든 부분도 있으니, 확실하게 책임질 부분을 나눈다거나, 전체적으로 진행을 관리하는 게 중요할 것 같습니다. 일단 뼈대를 만들고 살을 붙여야 하니!\n",
    "- 빠른 모델링\n",
    "    - 한글에는 적합한 pretrained model이 없으니깐, 여러 유명한 모델을 빨리 가져와서 합치는 게 중요할 듯.. 이건 조언을 받습니다. 어떻게 해야할지.."
   ]
  },
  {
   "cell_type": "code",
   "execution_count": null,
   "metadata": {},
   "outputs": [],
   "source": []
  }
 ],
 "metadata": {
  "kernelspec": {
   "display_name": "Python 3",
   "language": "python",
   "name": "python3"
  },
  "language_info": {
   "codemirror_mode": {
    "name": "ipython",
    "version": 3
   },
   "file_extension": ".py",
   "mimetype": "text/x-python",
   "name": "python",
   "nbconvert_exporter": "python",
   "pygments_lexer": "ipython3",
   "version": "3.6.1"
  }
 },
 "nbformat": 4,
 "nbformat_minor": 2
}
