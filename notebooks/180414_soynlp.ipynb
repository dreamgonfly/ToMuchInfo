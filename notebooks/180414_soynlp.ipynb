{
 "cells": [
  {
   "cell_type": "markdown",
   "metadata": {},
   "source": [
    "# 180414_soynlp"
   ]
  },
  {
   "cell_type": "code",
   "execution_count": 1,
   "metadata": {},
   "outputs": [],
   "source": [
    "import soynlp"
   ]
  },
  {
   "cell_type": "code",
   "execution_count": 2,
   "metadata": {},
   "outputs": [
    {
     "name": "stderr",
     "output_type": "stream",
     "text": [
      "/Users/sungnampark/anaconda3/lib/python3.6/site-packages/h5py/__init__.py:36: FutureWarning: Conversion of the second argument of issubdtype from `float` to `np.floating` is deprecated. In future, it will be treated as `np.float64 == np.dtype(float).type`.\n",
      "  from ._conv import register_converters as _register_converters\n"
     ]
    }
   ],
   "source": [
    "import os\n",
    "import pickle\n",
    "import sys\n",
    "import warnings\n",
    "\n",
    "import tensorflow as tf\n",
    "import pandas as pd"
   ]
  },
  {
   "cell_type": "code",
   "execution_count": 3,
   "metadata": {},
   "outputs": [],
   "source": [
    "with open(\"../data/movie.txt\") as f:\n",
    "    data = f.readlines()\n",
    "    data = [str(t.strip()) for t in data]\n",
    "    data = pd.DataFrame(data, columns=['comment'])\n",
    "    \n",
    "with open(\"../data/movie_label.txt\") as f:\n",
    "    score = f.readlines()\n",
    "    data['score'] = pd.DataFrame(score)\n",
    "    data['score'] = data['score'].map(lambda x: int(x.strip()))"
   ]
  },
  {
   "cell_type": "code",
   "execution_count": 4,
   "metadata": {},
   "outputs": [],
   "source": [
    "from soynlp.word import WordExtractor"
   ]
  },
  {
   "cell_type": "code",
   "execution_count": 105,
   "metadata": {},
   "outputs": [
    {
     "data": {
      "text/plain": [
       "520343"
      ]
     },
     "execution_count": 105,
     "metadata": {},
     "output_type": "execute_result"
    }
   ],
   "source": [
    "len(data)"
   ]
  },
  {
   "cell_type": "code",
   "execution_count": 5,
   "metadata": {},
   "outputs": [],
   "source": [
    "sentences = data['comment'].values"
   ]
  },
  {
   "cell_type": "code",
   "execution_count": 6,
   "metadata": {},
   "outputs": [
    {
     "name": "stdout",
     "output_type": "stream",
     "text": [
      "training was done. used memory 1.072 Gb\n",
      "all cohesion probabilities was computed. # words = 9228\n",
      "all branching entropies was computed # words = 152694\n",
      "all accessor variety was computed # words = 152694\n"
     ]
    }
   ],
   "source": [
    "word_extractor = WordExtractor(min_count=100,\n",
    "    min_cohesion_forward=0.05, \n",
    "    min_right_branching_entropy=0.0)\n",
    "word_extractor.train(sentences) # list of str or like\n",
    "words = word_extractor.extract()"
   ]
  },
  {
   "cell_type": "code",
   "execution_count": 40,
   "metadata": {},
   "outputs": [
    {
     "name": "stdout",
     "output_type": "stream",
     "text": [
      "training was done. used memory 1.037 Gb\n",
      "all cohesion probabilities was computed. # words = 75041\n",
      "all branching entropies was computed # words = 157381\n",
      "all accessor variety was computed # words = 157381\n"
     ]
    }
   ],
   "source": [
    "word_extractor = WordExtractor(min_count=10,\n",
    "    min_cohesion_forward=0.05, \n",
    "    min_right_branching_entropy=0.0)\n",
    "word_extractor.train(sentences) # list of str or like\n",
    "words = word_extractor.extract()"
   ]
  },
  {
   "cell_type": "code",
   "execution_count": 30,
   "metadata": {},
   "outputs": [],
   "source": [
    "words_sorted = [(word,(score.cohesion_backward + \\\n",
    "                      score.cohesion_forward)*(score.left_branching_entropy+score.right_branching_entropy)) \n",
    "                for word, score in words.items()]"
   ]
  },
  {
   "cell_type": "code",
   "execution_count": 34,
   "metadata": {},
   "outputs": [],
   "source": [
    "words_sorted = {word:score for word, score in words_sorted if score!=0}"
   ]
  },
  {
   "cell_type": "code",
   "execution_count": 36,
   "metadata": {},
   "outputs": [
    {
     "data": {
      "text/plain": [
       "6232"
      ]
     },
     "execution_count": 36,
     "metadata": {},
     "output_type": "execute_result"
    }
   ],
   "source": [
    "words_sorted"
   ]
  },
  {
   "cell_type": "code",
   "execution_count": 37,
   "metadata": {},
   "outputs": [],
   "source": [
    "from soynlp.tokenizer import MaxScoreTokenizer"
   ]
  },
  {
   "cell_type": "code",
   "execution_count": 38,
   "metadata": {},
   "outputs": [],
   "source": [
    "tokenizer = MaxScoreTokenizer(scores=words_sorted)"
   ]
  },
  {
   "cell_type": "code",
   "execution_count": 39,
   "metadata": {},
   "outputs": [
    {
     "data": {
      "text/plain": [
       "['안녕하', '세요']"
      ]
     },
     "execution_count": 39,
     "metadata": {},
     "output_type": "execute_result"
    }
   ],
   "source": [
    "tokenizer.tokenize(\"안녕하세요\")"
   ]
  },
  {
   "cell_type": "code",
   "execution_count": 44,
   "metadata": {},
   "outputs": [],
   "source": [
    "from collections import Counter"
   ]
  },
  {
   "cell_type": "code",
   "execution_count": 46,
   "metadata": {},
   "outputs": [],
   "source": [
    "import re"
   ]
  },
  {
   "cell_type": "code",
   "execution_count": 62,
   "metadata": {},
   "outputs": [],
   "source": [
    "re_movie_actor = re.compile(\"mv[0-9]*|ac[0-9]*\")\n",
    "ls = []\n",
    "for review in sentences:\n",
    "    movie_actor_token = re_movie_actor.findall(review)\n",
    "    if movie_actor_token:\n",
    "        ls += movie_actor_token"
   ]
  },
  {
   "cell_type": "code",
   "execution_count": 71,
   "metadata": {},
   "outputs": [],
   "source": [
    "c = {name:freq for name, freq in c.items() if freq>30}"
   ]
  },
  {
   "cell_type": "code",
   "execution_count": 78,
   "metadata": {},
   "outputs": [],
   "source": [
    "l = [1,2,3]"
   ]
  },
  {
   "cell_type": "code",
   "execution_count": 86,
   "metadata": {},
   "outputs": [
    {
     "data": {
      "text/plain": [
       "'abc'"
      ]
     },
     "execution_count": 86,
     "metadata": {},
     "output_type": "execute_result"
    }
   ],
   "source": [
    "s = 'abc'\n",
    "s.replace('a','1')\n",
    "s"
   ]
  },
  {
   "cell_type": "code",
   "execution_count": 83,
   "metadata": {},
   "outputs": [],
   "source": [
    "words_sorted.update({'박':1000000000})"
   ]
  },
  {
   "cell_type": "code",
   "execution_count": 88,
   "metadata": {},
   "outputs": [],
   "source": [
    "from tokenizers import SoyNLPTokenizer"
   ]
  },
  {
   "cell_type": "code",
   "execution_count": 90,
   "metadata": {},
   "outputs": [],
   "source": [
    "class Config:\n",
    "    pass\n",
    "tokenizer = SoyNLPTokenizer(Config)"
   ]
  },
  {
   "cell_type": "code",
   "execution_count": 94,
   "metadata": {},
   "outputs": [
    {
     "name": "stdout",
     "output_type": "stream",
     "text": [
      "training was done. used memory 1.087 Gb\n",
      "all cohesion probabilities was computed. # words = 9111\n",
      "all branching entropies was computed # words = 149119\n",
      "all accessor variety was computed # words = 149119\n"
     ]
    }
   ],
   "source": [
    "tokenizer.fit(data.values)"
   ]
  },
  {
   "cell_type": "code",
   "execution_count": 101,
   "metadata": {},
   "outputs": [],
   "source": [
    "tokens_set = set()\n",
    "for review in sentences:\n",
    "    tokens = tokenizer.tokenize(review)\n",
    "    tokens_set.update(set(tokens))"
   ]
  },
  {
   "cell_type": "code",
   "execution_count": 104,
   "metadata": {},
   "outputs": [
    {
     "data": {
      "text/plain": [
       "196319"
      ]
     },
     "execution_count": 104,
     "metadata": {},
     "output_type": "execute_result"
    }
   ],
   "source": [
    "len(tokens_set)"
   ]
  },
  {
   "cell_type": "code",
   "execution_count": 109,
   "metadata": {},
   "outputs": [],
   "source": [
    "import seaborn as sns"
   ]
  },
  {
   "cell_type": "code",
   "execution_count": 117,
   "metadata": {},
   "outputs": [
    {
     "name": "stdout",
     "output_type": "stream",
     "text": [
      "총 언급된 영화/배우 수  : 8888\n",
      "1번 언급된 영화/배우 수 : 4159\n",
      "2번 언급된 영화/배우 수 : 1338\n",
      "3번 언급된 영화/배우 수 : 627\n",
      "4번 언급된 영화/배우 수 : 416\n",
      "5번 언급된 영화/배우 수 : 310\n"
     ]
    }
   ],
   "source": [
    "c = Counter(ls)\n",
    "print(\"총 언급된 영화/배우 수  : {}\".format(len(c)))\n",
    "print(\"1번 언급된 영화/배우 수 : {}\".format(len([x for x in c.values() if x==1])))\n",
    "print(\"2번 언급된 영화/배우 수 : {}\".format(len([x for x in c.values() if x==2])))\n",
    "print(\"3번 언급된 영화/배우 수 : {}\".format(len([x for x in c.values() if x==3])))\n",
    "print(\"4번 언급된 영화/배우 수 : {}\".format(len([x for x in c.values() if x==4])))\n",
    "print(\"5번 언급된 영화/배우 수 : {}\".format(len([x for x in c.values() if x==5])))"
   ]
  },
  {
   "cell_type": "code",
   "execution_count": 121,
   "metadata": {},
   "outputs": [],
   "source": [
    "from gensim.models import FastText\n",
    "from konlpy.tag import Twitter"
   ]
  },
  {
   "cell_type": "code",
   "execution_count": 123,
   "metadata": {},
   "outputs": [],
   "source": [
    "twitter = Twitter()"
   ]
  },
  {
   "cell_type": "code",
   "execution_count": 125,
   "metadata": {},
   "outputs": [],
   "source": [
    "tokenized_reviews = [tokenizer.tokenize(review) for review in sentences]"
   ]
  },
  {
   "cell_type": "code",
   "execution_count": 127,
   "metadata": {},
   "outputs": [
    {
     "data": {
      "text/plain": [
       "['아', '련한', '향', '수를', '떠올', '리게', '만', '드는', '추', '억의', '영화']"
      ]
     },
     "execution_count": 127,
     "metadata": {},
     "output_type": "execute_result"
    }
   ],
   "source": [
    "tokenized_reviews[0]"
   ]
  },
  {
   "cell_type": "code",
   "execution_count": 129,
   "metadata": {},
   "outputs": [],
   "source": [
    "fasttext = FastText(sentences=tokenized_reviews, sg=1, size=100, window=5, negative=10, min_n=1, max_n=4, iter=20)"
   ]
  },
  {
   "cell_type": "code",
   "execution_count": 131,
   "metadata": {},
   "outputs": [
    {
     "name": "stderr",
     "output_type": "stream",
     "text": [
      "/Users/sungnampark/anaconda3/lib/python3.6/site-packages/ipykernel_launcher.py:1: DeprecationWarning: Call to deprecated `most_similar` (Method will be removed in 4.0.0, use self.wv.most_similar() instead).\n",
      "  \"\"\"Entry point for launching an IPython kernel.\n"
     ]
    },
    {
     "data": {
      "text/plain": [
       "[('개쓰래기', 0.83719801902771),\n",
       " ('쓰래기', 0.8296200633049011),\n",
       " ('개망작', 0.7729056477546692),\n",
       " ('개허접', 0.7694747447967529),\n",
       " ('개졸작', 0.7684503793716431),\n",
       " ('개쓰래', 0.7640445828437805),\n",
       " ('개막장', 0.7610095143318176),\n",
       " ('저질', 0.7569889426231384),\n",
       " ('졸작', 0.7537485361099243),\n",
       " ('쓰렉', 0.7430212497711182),\n",
       " ('선동용', 0.741576611995697),\n",
       " ('ㅆㄹㄱ', 0.7334646582603455),\n",
       " ('개똥', 0.7254996299743652),\n",
       " ('쓰뤠기', 0.7234551906585693),\n",
       " ('쓰랙', 0.72145676612854),\n",
       " ('레기', 0.7201757431030273),\n",
       " ('갖다버려', 0.718366265296936),\n",
       " ('쓰렉이', 0.7159989476203918),\n",
       " ('국뽕', 0.7091118693351746),\n",
       " ('재활', 0.709067165851593),\n",
       " ('하급', 0.7087844014167786),\n",
       " ('개망', 0.7077004313468933),\n",
       " ('이꼴', 0.7057012319564819),\n",
       " ('개한', 0.7045454382896423),\n",
       " ('개떡', 0.7035484910011292),\n",
       " ('최악임', 0.7012590169906616),\n",
       " ('쓰래', 0.700785219669342),\n",
       " ('3류', 0.7007443904876709),\n",
       " ('한쿡', 0.7006980776786804),\n",
       " ('개거품', 0.6983471512794495)]"
      ]
     },
     "execution_count": 131,
     "metadata": {},
     "output_type": "execute_result"
    }
   ],
   "source": [
    "fasttext.most_similar(\"쓰레기\",topn=30)"
   ]
  },
  {
   "cell_type": "code",
   "execution_count": 132,
   "metadata": {},
   "outputs": [
    {
     "name": "stderr",
     "output_type": "stream",
     "text": [
      "/Users/sungnampark/anaconda3/lib/python3.6/site-packages/ipykernel_launcher.py:1: DeprecationWarning: Call to deprecated `most_similar` (Method will be removed in 4.0.0, use self.wv.most_similar() instead).\n",
      "  \"\"\"Entry point for launching an IPython kernel.\n"
     ]
    },
    {
     "data": {
      "text/plain": [
       "[('븅신', 0.8223216533660889),\n",
       " ('빙신', 0.8182974457740784),\n",
       " ('병신들', 0.8076996803283691),\n",
       " ('병1신', 0.796699583530426),\n",
       " ('무뇌충', 0.7643649578094482),\n",
       " ('ㅄ', 0.7523525357246399),\n",
       " ('제정신', 0.748960554599762),\n",
       " ('중2병', 0.7420171499252319),\n",
       " ('또라이', 0.7412704229354858),\n",
       " ('바보들', 0.7355386018753052),\n",
       " ('미친것', 0.7331432104110718),\n",
       " ('어린것', 0.7294114828109741),\n",
       " ('이꼴', 0.7250562310218811),\n",
       " ('미친놈', 0.723762571811676),\n",
       " ('정신병자', 0.7205844521522522),\n",
       " ('내참', 0.7205693125724792),\n",
       " ('무뇌', 0.7200883030891418),\n",
       " ('일본놈', 0.7199276089668274),\n",
       " ('등신', 0.7197530269622803),\n",
       " ('개독', 0.7193326354026794),\n",
       " ('다보네', 0.7182186841964722),\n",
       " ('병', 0.7159683108329773),\n",
       " ('놈', 0.7156092524528503),\n",
       " ('낚시꾼', 0.715136706829071),\n",
       " ('무뇌아', 0.7143422961235046),\n",
       " ('새끼', 0.7137678265571594),\n",
       " ('새끼들', 0.7124447226524353),\n",
       " ('기자', 0.7118920683860779),\n",
       " ('알바생', 0.711039125919342),\n",
       " ('쿠', 0.7103320956230164)]"
      ]
     },
     "execution_count": 132,
     "metadata": {},
     "output_type": "execute_result"
    }
   ],
   "source": [
    "fasttext.most_similar(\"병신\",topn=30)"
   ]
  },
  {
   "cell_type": "code",
   "execution_count": 136,
   "metadata": {},
   "outputs": [
    {
     "name": "stderr",
     "output_type": "stream",
     "text": [
      "/Users/sungnampark/anaconda3/lib/python3.6/site-packages/ipykernel_launcher.py:1: DeprecationWarning: Call to deprecated `most_similar` (Method will be removed in 4.0.0, use self.wv.most_similar() instead).\n",
      "  \"\"\"Entry point for launching an IPython kernel.\n"
     ]
    },
    {
     "data": {
      "text/plain": [
       "[('졸라', 0.9146998524665833),\n",
       " ('조낸', 0.8310585618019104),\n",
       " ('존내', 0.8295345902442932),\n",
       " ('존니', 0.8209677338600159),\n",
       " ('존나재', 0.8044064044952393),\n",
       " ('ㅈㄴ', 0.8017397522926331),\n",
       " ('진짜', 0.7920728325843811),\n",
       " ('겁나', 0.788737952709198),\n",
       " ('존나잼', 0.7864083647727966),\n",
       " ('존나웃', 0.7783069014549255)]"
      ]
     },
     "execution_count": 136,
     "metadata": {},
     "output_type": "execute_result"
    }
   ],
   "source": [
    "fasttext.most_similar(\"존나\")"
   ]
  },
  {
   "cell_type": "code",
   "execution_count": 138,
   "metadata": {},
   "outputs": [
    {
     "name": "stderr",
     "output_type": "stream",
     "text": [
      "/Users/sungnampark/anaconda3/lib/python3.6/site-packages/ipykernel_launcher.py:1: DeprecationWarning: Call to deprecated `most_similar` (Method will be removed in 4.0.0, use self.wv.most_similar() instead).\n",
      "  \"\"\"Entry point for launching an IPython kernel.\n"
     ]
    },
    {
     "data": {
      "text/plain": [
       "[('개허접', 0.8225301504135132),\n",
       " ('유치', 0.7779809236526489),\n",
       " ('엉성', 0.7752565741539001),\n",
       " ('허접해', 0.7681140303611755),\n",
       " ('어색', 0.7557356953620911),\n",
       " ('시시', 0.7530478835105896),\n",
       " ('허접함', 0.7498729228973389),\n",
       " ('부실', 0.7300997972488403),\n",
       " ('조잡', 0.7283927202224731),\n",
       " ('허약', 0.7272347807884216)]"
      ]
     },
     "execution_count": 138,
     "metadata": {},
     "output_type": "execute_result"
    }
   ],
   "source": [
    "fasttext.most_similar(\"허접\")"
   ]
  },
  {
   "cell_type": "code",
   "execution_count": 139,
   "metadata": {},
   "outputs": [
    {
     "name": "stderr",
     "output_type": "stream",
     "text": [
      "/Users/sungnampark/anaconda3/lib/python3.6/site-packages/ipykernel_launcher.py:1: DeprecationWarning: Call to deprecated `most_similar` (Method will be removed in 4.0.0, use self.wv.most_similar() instead).\n",
      "  \"\"\"Entry point for launching an IPython kernel.\n"
     ]
    },
    {
     "data": {
      "text/plain": [
       "[('ㄲㅈ', 0.7385265231132507),\n",
       " ('ㅆㅃ', 0.7364158034324646),\n",
       " ('ㅆㄹㄱ', 0.7333856821060181),\n",
       " ('ㅆㅂ', 0.7262677550315857),\n",
       " ('🐱아', 0.7224671244621277),\n",
       " ('팔아', 0.718827486038208),\n",
       " ('신발', 0.7162114381790161),\n",
       " ('ㅁㅊ', 0.7144342064857483),\n",
       " ('씨발', 0.707223117351532),\n",
       " ('죵나', 0.7027004957199097),\n",
       " ('절대아', 0.7014756798744202),\n",
       " ('ㅂㅂ', 0.7007321119308472),\n",
       " ('아싸', 0.7003445029258728),\n",
       " ('알바아', 0.6995455026626587),\n",
       " ('괜히봄', 0.6956772804260254),\n",
       " ('재용아', 0.6947632431983948),\n",
       " ('장난치냐', 0.6945180296897888),\n",
       " ('뒤져라', 0.6944048404693604),\n",
       " ('시팔', 0.6903988122940063),\n",
       " ('절름발', 0.689546525478363),\n",
       " ('경규형', 0.6884580254554749),\n",
       " ('개안습', 0.68743896484375),\n",
       " ('나원참', 0.6874103546142578),\n",
       " ('ㅅㅂ', 0.686514139175415),\n",
       " ('시1발', 0.6861288547515869),\n",
       " ('개쓰래', 0.6856763362884521),\n",
       " ('선동렬', 0.6851179003715515),\n",
       " ('내놔라', 0.6849446892738342),\n",
       " ('개~', 0.6831190586090088),\n",
       " ('개굿', 0.6822612881660461)]"
      ]
     },
     "execution_count": 139,
     "metadata": {},
     "output_type": "execute_result"
    }
   ],
   "source": [
    "fasttext.most_similar(\"시발\",topn=30)"
   ]
  },
  {
   "cell_type": "code",
   "execution_count": 140,
   "metadata": {},
   "outputs": [],
   "source": [
    "import re"
   ]
  },
  {
   "cell_type": "code",
   "execution_count": 141,
   "metadata": {},
   "outputs": [],
   "source": [
    "r = re.compile(\"쓰레기|ㅆㄹㄱ|ㅆㄹㄱ\")"
   ]
  },
  {
   "cell_type": "code",
   "execution_count": 142,
   "metadata": {},
   "outputs": [
    {
     "data": {
      "text/plain": [
       "['쓰레기', 'ㅆㄹㄱ']"
      ]
     },
     "execution_count": 142,
     "metadata": {},
     "output_type": "execute_result"
    }
   ],
   "source": [
    "r.findall(\"쓰레기 ㅆㄹㄱ 같은 ㅈ같은 영화\")"
   ]
  },
  {
   "cell_type": "code",
   "execution_count": 159,
   "metadata": {},
   "outputs": [],
   "source": [
    "r = re.compile(\"[A-Za-z]+\")"
   ]
  },
  {
   "cell_type": "code",
   "execution_count": 160,
   "metadata": {},
   "outputs": [
    {
     "data": {
      "text/plain": [
       "['mo', 'vie']"
      ]
     },
     "execution_count": 160,
     "metadata": {},
     "output_type": "execute_result"
    }
   ],
   "source": [
    "r.findall(\"이런 개쓰레기 같은 movie\")"
   ]
  },
  {
   "cell_type": "code",
   "execution_count": 172,
   "metadata": {},
   "outputs": [],
   "source": [
    "english_words = []\n",
    "for sentence in sentences:\n",
    "    english = r.findall(sentence)\n",
    "    english = list(set(english) - set(['mv', 'ac']))\n",
    "    if english:\n",
    "        english_words += english"
   ]
  },
  {
   "cell_type": "code",
   "execution_count": 175,
   "metadata": {},
   "outputs": [
    {
     "data": {
      "text/plain": [
       "[('good', 1705),\n",
       " ('CG', 1077),\n",
       " ('SF', 717),\n",
       " ('gt', 592),\n",
       " ('lt', 554),\n",
       " ('b', 469),\n",
       " ('ost', 440),\n",
       " ('D', 424),\n",
       " ('cg', 411),\n",
       " ('B', 361),\n",
       " ('OST', 321),\n",
       " ('DVD', 289),\n",
       " ('TV', 281),\n",
       " ('sf', 233),\n",
       " ('GOOD', 206),\n",
       " ('very', 189),\n",
       " ('d', 179),\n",
       " ('T', 176),\n",
       " ('a', 175),\n",
       " ('tv', 168),\n",
       " ('best', 163),\n",
       " ('of', 160),\n",
       " ('X', 146),\n",
       " ('the', 146),\n",
       " ('I', 140),\n",
       " ('dvd', 126),\n",
       " ('bad', 125),\n",
       " ('x', 124),\n",
       " ('is', 124),\n",
       " ('s', 119),\n",
       " ('so', 111),\n",
       " ('A', 103),\n",
       " ('movie', 96),\n",
       " ('ocn', 83),\n",
       " ('my', 82),\n",
       " ('n', 77),\n",
       " ('you', 76),\n",
       " ('OCN', 74),\n",
       " ('but', 66),\n",
       " ('not', 65),\n",
       " ('it', 62),\n",
       " ('The', 60),\n",
       " ('bb', 59),\n",
       " ('love', 59),\n",
       " ('up', 58),\n",
       " ('CF', 56),\n",
       " ('vs', 56),\n",
       " ('Very', 55),\n",
       " ('no', 54),\n",
       " ('BEST', 52),\n",
       " ('i', 52),\n",
       " ('It', 46),\n",
       " ('to', 46),\n",
       " ('C', 46),\n",
       " ('No', 45),\n",
       " ('cgv', 45),\n",
       " ('l', 45),\n",
       " ('m', 44),\n",
       " ('o', 44),\n",
       " ('zz', 42),\n",
       " ('me', 42),\n",
       " ('O', 41),\n",
       " ('v', 41),\n",
       " ('great', 40),\n",
       " ('wow', 40),\n",
       " ('EBS', 40),\n",
       " ('CGV', 40),\n",
       " ('in', 37),\n",
       " ('t', 36),\n",
       " ('Oh', 36),\n",
       " ('oh', 36),\n",
       " ('zzz', 36),\n",
       " ('z', 35),\n",
       " ('cool', 35),\n",
       " ('S', 35),\n",
       " ('your', 34),\n",
       " ('So', 34),\n",
       " ('c', 34),\n",
       " ('OTL', 34),\n",
       " ('ok', 33),\n",
       " ('captain', 31),\n",
       " ('and', 31),\n",
       " ('out', 31),\n",
       " ('NO', 30),\n",
       " ('be', 30),\n",
       " ('thumbs', 30),\n",
       " ('gg', 30),\n",
       " ('My', 29),\n",
       " ('F', 29),\n",
       " ('go', 28),\n",
       " ('TT', 28),\n",
       " ('OUT', 28),\n",
       " ('V', 27),\n",
       " ('E', 26),\n",
       " ('top', 26),\n",
       " ('perfect', 26),\n",
       " ('Movie', 25),\n",
       " ('OK', 25),\n",
       " ('dd', 25),\n",
       " ('r', 24)]"
      ]
     },
     "execution_count": 175,
     "metadata": {},
     "output_type": "execute_result"
    }
   ],
   "source": [
    "Counter(english_words).most_common(100)"
   ]
  },
  {
   "cell_type": "code",
   "execution_count": 179,
   "metadata": {},
   "outputs": [
    {
     "data": {
      "text/plain": [
       "'안녕하세요AA'"
      ]
     },
     "execution_count": 179,
     "metadata": {},
     "output_type": "execute_result"
    }
   ],
   "source": [
    "\"안녕하세요aa\".upper()"
   ]
  },
  {
   "cell_type": "code",
   "execution_count": null,
   "metadata": {},
   "outputs": [],
   "source": []
  }
 ],
 "metadata": {
  "kernelspec": {
   "display_name": "Python 3",
   "language": "python",
   "name": "python3"
  },
  "language_info": {
   "codemirror_mode": {
    "name": "ipython",
    "version": 3
   },
   "file_extension": ".py",
   "mimetype": "text/x-python",
   "name": "python",
   "nbconvert_exporter": "python",
   "pygments_lexer": "ipython3",
   "version": "3.6.4"
  }
 },
 "nbformat": 4,
 "nbformat_minor": 2
}
