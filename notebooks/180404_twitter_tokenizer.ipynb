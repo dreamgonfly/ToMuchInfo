{
 "cells": [
  {
   "cell_type": "code",
   "execution_count": 5,
   "metadata": {},
   "outputs": [],
   "source": [
    "import os\n",
    "import pickle\n",
    "import sys\n",
    "import warnings\n",
    "\n",
    "import tensorflow as tf\n",
    "import pandas as pd"
   ]
  },
  {
   "cell_type": "code",
   "execution_count": 6,
   "metadata": {},
   "outputs": [],
   "source": [
    "from konlpy.tag import Twitter"
   ]
  },
  {
   "cell_type": "code",
   "execution_count": 7,
   "metadata": {},
   "outputs": [],
   "source": [
    "with open(\"../data/movie.txt\") as f:\n",
    "    data = f.readlines()\n",
    "    data = [str(t.strip()) for t in data]\n",
    "    data = pd.DataFrame(data, columns=['comment'])\n",
    "    \n",
    "with open(\"../data/movie_label.txt\") as f:\n",
    "    score = f.readlines()\n",
    "    data['score'] = pd.DataFrame(score)\n",
    "    data['score'] = data['score'].map(lambda x: int(x.strip()))"
   ]
  },
  {
   "cell_type": "code",
   "execution_count": 8,
   "metadata": {},
   "outputs": [],
   "source": [
    "twitter = Twitter()"
   ]
  },
  {
   "cell_type": "code",
   "execution_count": 25,
   "metadata": {},
   "outputs": [],
   "source": [
    "import re\n",
    "def twitter_tokenize(raw_text):\n",
    "    return ' '.join([x[0] for x in twitter.pos(raw_text)])\n",
    "re_basic = re.compile(\"[^ ㄱ-ㅣ가-힣]+\")\n",
    "def basic_cleanser(raw_text):\n",
    "    return re_basic.sub('', raw_text)"
   ]
  },
  {
   "cell_type": "code",
   "execution_count": 23,
   "metadata": {},
   "outputs": [],
   "source": [
    "data['tokenized_text'] = data['comment'].map(basic_cleanser)"
   ]
  },
  {
   "cell_type": "code",
   "execution_count": null,
   "metadata": {},
   "outputs": [],
   "source": [
    "data['tokenized_text'] = data['tokenized_text'].map(twitter_tokenize)"
   ]
  },
  {
   "cell_type": "code",
   "execution_count": null,
   "metadata": {},
   "outputs": [],
   "source": [
    "with open(\"../data/movie_tokenized_twitter.txt\", \"w\") as f:\n",
    "    for t in data['tokenized_text'].values:\n",
    "        f.write(t)\n",
    "    f.close()"
   ]
  }
 ],
 "metadata": {
  "kernelspec": {
   "display_name": "Python 3",
   "language": "python",
   "name": "python3"
  },
  "language_info": {
   "codemirror_mode": {
    "name": "ipython",
    "version": 3
   },
   "file_extension": ".py",
   "mimetype": "text/x-python",
   "name": "python",
   "nbconvert_exporter": "python",
   "pygments_lexer": "ipython3",
   "version": "3.6.4"
  }
 },
 "nbformat": 4,
 "nbformat_minor": 2
}
